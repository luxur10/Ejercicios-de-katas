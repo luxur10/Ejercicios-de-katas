{
 "cells": [
  {
   "cell_type": "markdown",
   "metadata": {},
   "source": [
    "## Problema 1\n",
    "Con una velocidad de 49 km/s se hacerca un asteroide a la tierra advertencia"
   ]
  },
  {
   "cell_type": "code",
   "execution_count": 14,
   "metadata": {},
   "outputs": [
    {
     "name": "stdout",
     "output_type": "stream",
     "text": [
      "todo tranquilo\n"
     ]
    }
   ],
   "source": [
    "velo= 18\n",
    "if velo > 25:\n",
    "    print('Advertencia se aproxima un asteroide!!!!!!!!')\n",
    "else:\n",
    "    print('todo tranquilo')\n",
    "\n",
    "\n"
   ]
  },
  {
   "cell_type": "markdown",
   "metadata": {},
   "source": [
    "## Problema 2\n",
    "velocidad 19 km/s"
   ]
  },
  {
   "cell_type": "code",
   "execution_count": 16,
   "metadata": {},
   "outputs": [
    {
     "name": "stdout",
     "output_type": "stream",
     "text": [
      "Gente observe el cielo para buscar un asteroide se vera el rayo de luz del asteroide\n"
     ]
    }
   ],
   "source": [
    "vel = 29\n",
    "if vel >= 20:\n",
    "    print('Gente observe el cielo para buscar un asteroide se vera el rayo de luz del asteroide')\n",
    "elif vel < 20:\n",
    "    print('No mire todo tranquilo')"
   ]
  },
  {
   "cell_type": "markdown",
   "metadata": {},
   "source": [
    "## Problema 3\n",
    "velocidad y tamaño de asteroide\n"
   ]
  },
  {
   "cell_type": "code",
   "execution_count": 19,
   "metadata": {},
   "outputs": [
    {
     "name": "stdout",
     "output_type": "stream",
     "text": [
      "Advertencia peligro peligro corraa!!!!\n"
     ]
    }
   ],
   "source": [
    "velocidad = 26\n",
    "tamaño = 29\n",
    "if velocidad > 25 and tamaño > 25:\n",
    "    print('Advertencia peligro peligro corraa!!!!')\n",
    "elif velocidad >= 20 :\n",
    "    print('mire al cielo, el asteroide deja una estela de luz')\n",
    "else:\n",
    "    print('sin novedad')"
   ]
  }
 ],
 "metadata": {
  "interpreter": {
   "hash": "04635d289a519a1410467dd0afb0db42f9184808881ca68b2eb5a687a20a5a94"
  },
  "kernelspec": {
   "display_name": "Python 3.7.9 64-bit",
   "language": "python",
   "name": "python3"
  },
  "language_info": {
   "codemirror_mode": {
    "name": "ipython",
    "version": 3
   },
   "file_extension": ".py",
   "mimetype": "text/x-python",
   "name": "python",
   "nbconvert_exporter": "python",
   "pygments_lexer": "ipython3",
   "version": "3.7.9"
  },
  "orig_nbformat": 4
 },
 "nbformat": 4,
 "nbformat_minor": 2
}
