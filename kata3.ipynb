{
 "cells": [
  {
   "cell_type": "markdown",
   "metadata": {},
   "source": [
    "## Asteroide cerca\n",
    "Con una velocidad de 49 km/s se hacerca un asteroide a la tierra advertencia"
   ]
  },
  {
   "cell_type": "code",
   "execution_count": 12,
   "metadata": {},
   "outputs": [
    {
     "name": "stdout",
     "output_type": "stream",
     "text": [
      "No mire todo tranquilo\n"
     ]
    }
   ],
   "source": [
    "velo= 18\n",
    "if velo > 25:\n",
    "    print('Advertencia se aproxima un asteroide!!!!!!!!')\n",
    "elif velo >= 20:\n",
    "    print('Gente observe el cielo para buscar un asteroide se vera el rayo de luz del asteroide')\n",
    "elif velo < 20:\n",
    "    print('No mire todo tranquilo')\n",
    "\n",
    "\n"
   ]
  }
 ],
 "metadata": {
  "interpreter": {
   "hash": "04635d289a519a1410467dd0afb0db42f9184808881ca68b2eb5a687a20a5a94"
  },
  "kernelspec": {
   "display_name": "Python 3.7.9 64-bit",
   "language": "python",
   "name": "python3"
  },
  "language_info": {
   "codemirror_mode": {
    "name": "ipython",
    "version": 3
   },
   "file_extension": ".py",
   "mimetype": "text/x-python",
   "name": "python",
   "nbconvert_exporter": "python",
   "pygments_lexer": "ipython3",
   "version": "3.7.9"
  },
  "orig_nbformat": 4
 },
 "nbformat": 4,
 "nbformat_minor": 2
}
